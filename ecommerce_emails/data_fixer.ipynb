{
 "cells": [
  {
   "cell_type": "code",
   "execution_count": 287,
   "metadata": {},
   "outputs": [],
   "source": [
    "import os\n",
    "import re\n",
    "import pandas\n",
    "import time\n",
    "import threading\n",
    "import configparser\n",
    "import numpy\n",
    "from urllib import parse\n",
    "\n",
    "import smtplib\n",
    "from email.message import EmailMessage\n",
    "from email.encoders import encode_base64\n",
    "from email.mime.base import MIMEBase\n",
    "from email.mime.multipart import MIMEMultipart\n",
    "from email.mime.text import MIMEText\n",
    "from mimetypes import guess_type, read_mime_types"
   ]
  },
  {
   "cell_type": "code",
   "execution_count": 357,
   "metadata": {},
   "outputs": [],
   "source": [
    "BASE_DIR = os.getcwd()\n",
    "\n",
    "DOWNLOADS_PATH = os.path.join(os.environ.get('HOMEPATH'), 'Downloads')\n",
    "\n",
    "FILE_PATH = os.path.join(DOWNLOADS_PATH, 'emails.csv')\n",
    "\n",
    "CONFIG_PATH = os.path.join(BASE_DIR, 'credentials.ini')\n",
    "\n",
    "if not os.path.exists(FILE_PATH):\n",
    "    raise FileExistsError('Could not find the following file.')"
   ]
  },
  {
   "cell_type": "code",
   "execution_count": 358,
   "metadata": {},
   "outputs": [],
   "source": [
    "data = pandas.read_csv(FILE_PATH)"
   ]
  },
  {
   "cell_type": "code",
   "execution_count": 361,
   "metadata": {},
   "outputs": [
    {
     "output_type": "execute_result",
     "data": {
      "text/plain": "         Name       Surname                     Email\n0      Thomas      Sauzedde  sauzeddethomas@gmail.com\n1  Constantin    Pellissier     cp@tripleacapital.com\n2    Philippe        GuignŽ     pg@virtualregatta.com\n3        Marc  Charrondire  mcharrondiere@wanadoo.fr\n4     Edouard         Level         edlevel@gmail.com",
      "text/html": "<div>\n<style scoped>\n    .dataframe tbody tr th:only-of-type {\n        vertical-align: middle;\n    }\n\n    .dataframe tbody tr th {\n        vertical-align: top;\n    }\n\n    .dataframe thead th {\n        text-align: right;\n    }\n</style>\n<table border=\"1\" class=\"dataframe\">\n  <thead>\n    <tr style=\"text-align: right;\">\n      <th></th>\n      <th>Name</th>\n      <th>Surname</th>\n      <th>Email</th>\n    </tr>\n  </thead>\n  <tbody>\n    <tr>\n      <th>0</th>\n      <td>Thomas</td>\n      <td>Sauzedde</td>\n      <td>sauzeddethomas@gmail.com</td>\n    </tr>\n    <tr>\n      <th>1</th>\n      <td>Constantin</td>\n      <td>Pellissier</td>\n      <td>cp@tripleacapital.com</td>\n    </tr>\n    <tr>\n      <th>2</th>\n      <td>Philippe</td>\n      <td>GuignŽ</td>\n      <td>pg@virtualregatta.com</td>\n    </tr>\n    <tr>\n      <th>3</th>\n      <td>Marc</td>\n      <td>Charrondire</td>\n      <td>mcharrondiere@wanadoo.fr</td>\n    </tr>\n    <tr>\n      <th>4</th>\n      <td>Edouard</td>\n      <td>Level</td>\n      <td>edlevel@gmail.com</td>\n    </tr>\n  </tbody>\n</table>\n</div>"
     },
     "metadata": {},
     "execution_count": 361
    }
   ],
   "source": [
    "\n",
    "df = pandas.DataFrame(data=data, columns=['Name', 'Surname', 'Email'])\n",
    "df.head()"
   ]
  },
  {
   "cell_type": "code",
   "execution_count": 362,
   "metadata": {},
   "outputs": [
    {
     "output_type": "execute_result",
     "data": {
      "text/plain": "         name       surname                     email\n0      Thomas      Sauzedde  sauzeddethomas@gmail.com\n1  Constantin    Pellissier     cp@tripleacapital.com\n2    Philippe        GuignŽ     pg@virtualregatta.com\n3        Marc  Charrondire  mcharrondiere@wanadoo.fr\n4     Edouard         Level         edlevel@gmail.com",
      "text/html": "<div>\n<style scoped>\n    .dataframe tbody tr th:only-of-type {\n        vertical-align: middle;\n    }\n\n    .dataframe tbody tr th {\n        vertical-align: top;\n    }\n\n    .dataframe thead th {\n        text-align: right;\n    }\n</style>\n<table border=\"1\" class=\"dataframe\">\n  <thead>\n    <tr style=\"text-align: right;\">\n      <th></th>\n      <th>name</th>\n      <th>surname</th>\n      <th>email</th>\n    </tr>\n  </thead>\n  <tbody>\n    <tr>\n      <th>0</th>\n      <td>Thomas</td>\n      <td>Sauzedde</td>\n      <td>sauzeddethomas@gmail.com</td>\n    </tr>\n    <tr>\n      <th>1</th>\n      <td>Constantin</td>\n      <td>Pellissier</td>\n      <td>cp@tripleacapital.com</td>\n    </tr>\n    <tr>\n      <th>2</th>\n      <td>Philippe</td>\n      <td>GuignŽ</td>\n      <td>pg@virtualregatta.com</td>\n    </tr>\n    <tr>\n      <th>3</th>\n      <td>Marc</td>\n      <td>Charrondire</td>\n      <td>mcharrondiere@wanadoo.fr</td>\n    </tr>\n    <tr>\n      <th>4</th>\n      <td>Edouard</td>\n      <td>Level</td>\n      <td>edlevel@gmail.com</td>\n    </tr>\n  </tbody>\n</table>\n</div>"
     },
     "metadata": {},
     "execution_count": 362
    }
   ],
   "source": [
    "# # Optionally: Transform column names\n",
    "df = df.rename(columns={'Name': 'name', 'Surname': 'surname', 'Email': 'email'})\n",
    "df.head()"
   ]
  },
  {
   "cell_type": "code",
   "execution_count": 363,
   "metadata": {},
   "outputs": [
    {
     "output_type": "execute_result",
     "data": {
      "text/plain": "         name       surname                     email\n0      Thomas      Sauzedde  sauzeddethomas@gmail.com\n1  Constantin    Pellissier     cp@tripleacapital.com\n2    Philippe        GuignŽ     pg@virtualregatta.com\n3        Marc  Charrondire  mcharrondiere@wanadoo.fr\n4     Edouard         Level         edlevel@gmail.com",
      "text/html": "<div>\n<style scoped>\n    .dataframe tbody tr th:only-of-type {\n        vertical-align: middle;\n    }\n\n    .dataframe tbody tr th {\n        vertical-align: top;\n    }\n\n    .dataframe thead th {\n        text-align: right;\n    }\n</style>\n<table border=\"1\" class=\"dataframe\">\n  <thead>\n    <tr style=\"text-align: right;\">\n      <th></th>\n      <th>name</th>\n      <th>surname</th>\n      <th>email</th>\n    </tr>\n  </thead>\n  <tbody>\n    <tr>\n      <th>0</th>\n      <td>Thomas</td>\n      <td>Sauzedde</td>\n      <td>sauzeddethomas@gmail.com</td>\n    </tr>\n    <tr>\n      <th>1</th>\n      <td>Constantin</td>\n      <td>Pellissier</td>\n      <td>cp@tripleacapital.com</td>\n    </tr>\n    <tr>\n      <th>2</th>\n      <td>Philippe</td>\n      <td>GuignŽ</td>\n      <td>pg@virtualregatta.com</td>\n    </tr>\n    <tr>\n      <th>3</th>\n      <td>Marc</td>\n      <td>Charrondire</td>\n      <td>mcharrondiere@wanadoo.fr</td>\n    </tr>\n    <tr>\n      <th>4</th>\n      <td>Edouard</td>\n      <td>Level</td>\n      <td>edlevel@gmail.com</td>\n    </tr>\n  </tbody>\n</table>\n</div>"
     },
     "metadata": {},
     "execution_count": 363
    }
   ],
   "source": [
    "# Normalize each emails so that we do have difficulties\n",
    "# when attempting to the send to them\n",
    "def normalize(email):\n",
    "    has_matched = re.search(r'^.*(?=\\@).*$', str(email))\n",
    "    if has_matched:\n",
    "        return has_matched.group(0).lower().strip()\n",
    "    return None\n",
    "\n",
    "df['email'] = df['email'].apply(normalize)\n",
    "df.head()"
   ]
  },
  {
   "cell_type": "code",
   "execution_count": 364,
   "metadata": {},
   "outputs": [
    {
     "output_type": "execute_result",
     "data": {
      "text/plain": "(703, 3)"
     },
     "metadata": {},
     "execution_count": 364
    }
   ],
   "source": [
    "# Detect and drop empty email fields\n",
    "df = df[df['email'].isna() == False]\n",
    "df.shape"
   ]
  },
  {
   "cell_type": "code",
   "execution_count": 365,
   "metadata": {},
   "outputs": [
    {
     "output_type": "execute_result",
     "data": {
      "text/plain": "array(['sauzeddethomas@gmail.com', 'cp@tripleacapital.com',\n       'pg@virtualregatta.com'], dtype=object)"
     },
     "metadata": {},
     "execution_count": 365
    }
   ],
   "source": [
    "# Convert into a numpy array that\n",
    "# can be used by the email class\n",
    "emails_array = numpy.array(df['email'])\n",
    "emails_array[:3]"
   ]
  },
  {
   "cell_type": "code",
   "execution_count": 366,
   "metadata": {},
   "outputs": [],
   "source": [
    "class OfferEmail:\n",
    "    config = configparser.ConfigParser()\n",
    "\n",
    "    def __init__(self, setting='google'):\n",
    "        self.config.read(CONFIG_PATH)\n",
    "\n",
    "        host = self.config[setting]['host']\n",
    "        port = self.config['default']['port']\n",
    "        \n",
    "        user = self.config[setting]['user']\n",
    "        password = self.config[setting]['password']\n",
    "\n",
    "        try:\n",
    "            connection = smtplib.SMTP(host, port)\n",
    "        except smtplib.SMTPConnectError:\n",
    "            raise\n",
    "        else:\n",
    "            print('1.', 'Connecting to \"%s\"' % host)\n",
    "            connection.ehlo()\n",
    "            connection.starttls()\n",
    "            connection.ehlo()\n",
    "            try:\n",
    "                connection.login(user, password)\n",
    "            except smtplib.SMTPAuthenticationError:\n",
    "                raise\n",
    "            else:\n",
    "                print('2.', 'Login successful @ %s' % user)\n",
    "                self.connection = connection\n",
    "\n",
    "    def construct_inner_links(self):\n",
    "        website = ''\n",
    "        product_link\n",
    "        return website, product_link\n",
    "\n",
    "    def send(self, sender, receiver, subject, **kwargs):\n",
    "        message = MIMEMultipart('alternative')\n",
    "        message['From'] = sender\n",
    "        message['To'] = receiver\n",
    "        message['BCC'] = kwargs['bcc'] if 'bcc' in kwargs else None\n",
    "        message['Subject'] = subject\n",
    "\n",
    "        website = 'https://nawoka.fr/'\n",
    "        website = self.config['default']['website']\n",
    "        utm_params = {\n",
    "            'utm_source': 'link',\n",
    "            'utm_medium': 'email'\n",
    "        }\n",
    "        params = parse.urlencode(utm_params)\n",
    "        website_link = f'{website}?{params}'\n",
    "\n",
    "        product_link = parse.urljoin(website, 'shop/products/femme/tops/23/crop-top-simple-bretelles')\n",
    "        product_link = f'{product_link}?{params}&utm_campaign=Special+Offer'\n",
    "\n",
    "        plain_text = \"\"\"\n",
    "        Bonjour,\n",
    "\n",
    "        Découvrez notre promotion spéciale pour l'été sur votre toute nouvelle plateforme e-commerce de mode Nawoka. \n",
    "        En suivant ce lien, vous pourrez bénéficier de -30% sur ce {product_link} crop top unique</a> en série limitée 💓💓\n",
    "\n",
    "        Pour toutes questions ou informations complémentaires, n'hésitez pas à nous contacter en répondant directement à ce mail.\n",
    "\n",
    "        Bon shopping sur notre site ! 😊\n",
    "\n",
    "        ---\n",
    "        NAWOKA.FR\n",
    "        {website_link}\n",
    "        \"\"\"\n",
    "\n",
    "        html = f\"\"\"\n",
    "        <html>\n",
    "            <body>\n",
    "                <p>\n",
    "                    Bonjour,\n",
    "                </p>\n",
    "                <p>\n",
    "                    Découvrez notre promotion spéciale pour l'été sur votre toute nouvelle plateforme e-commerce de mode Nawoka. \n",
    "                    En suivant ce lien, vous pourrez bénéficier de <strong style='color: blue;'>-30% sur ce \n",
    "                    <a href='{product_link}'>crop top unique</a> en série limitée</strong> 💓💓\n",
    "                </p>\n",
    "                <p>\n",
    "                    Pour toutes questions ou informations complémentaires, n'hésitez pas à nous contacter en répondant directement à ce mail.\n",
    "                </p>\n",
    "                <p>\n",
    "                    Bon shopping sur notre site ! 😊\n",
    "                </p>\n",
    "                <p>---</p>\n",
    "                <p style='font-weight: bold;>\n",
    "                    NAWOKA.FR\n",
    "                </p>\n",
    "                <p>\n",
    "                    <a href='{website_link}'>nawoka.fr</a>\n",
    "                </p>\n",
    "            </body>\n",
    "        </html>\n",
    "        \"\"\"\n",
    "\n",
    "        text = MIMEText(plain_text, 'plain')\n",
    "        html = MIMEText(html, 'html')\n",
    "\n",
    "        message.attach(text)\n",
    "        message.attach(html)\n",
    "\n",
    "        print('...', 'Sending emails')\n",
    "        self.connection.sendmail(sender, receiver, message.as_string())\n",
    "        print('3.', 'Closing connection')\n",
    "        self.connection.close()"
   ]
  },
  {
   "cell_type": "code",
   "execution_count": 367,
   "metadata": {},
   "outputs": [
    {
     "output_type": "stream",
     "name": "stdout",
     "text": "1. Connecting to \"smtp.gmail.com\"\n2. Login successful @ contact.nawoka@gmail.com\n... Sending emails\n3. Closing connection\n"
    }
   ],
   "source": [
    "def send_emails_wrapper():\n",
    "    emailer = OfferEmail(setting='google')\n",
    "\n",
    "    def construct_emails(debug=False):\n",
    "        if not debug:\n",
    "            emails = list(emails_array)\n",
    "            main_email = emails.pop(0)\n",
    "            return main_email, ','.join(emails_array)\n",
    "        return 'hugo_tachini@yahoo.com'\n",
    "\n",
    "    emails = construct_emails()\n",
    "    subject = \"-30% sur ce crop top tendance pour l'été 💓💓\"\n",
    "    emailer.send('john.pendenque@nawoka.fr', emails[0], subject, bcc=emails[1])\n",
    "\n",
    "send_emails_wrapper()"
   ]
  },
  {
   "cell_type": "code",
   "execution_count": 368,
   "metadata": {},
   "outputs": [],
   "source": [
    "def write_emails_to_new_file():\n",
    "    df.to_csv(os.path.join(BASE_DIR, 'emails.csv'))\n",
    "\n",
    "write_emails_to_new_file()"
   ]
  },
  {
   "cell_type": "code",
   "execution_count": null,
   "metadata": {},
   "outputs": [],
   "source": []
  }
 ],
 "metadata": {
  "language_info": {
   "codemirror_mode": {
    "name": "ipython",
    "version": 3
   },
   "file_extension": ".py",
   "mimetype": "text/x-python",
   "name": "python",
   "nbconvert_exporter": "python",
   "pygments_lexer": "ipython3",
   "version": "3.8.2-final"
  },
  "orig_nbformat": 2,
  "kernelspec": {
   "name": "python38264bitf0ceb5a79d6c453ba42cf1b0e66b42d2",
   "display_name": "Python 3.8.2 64-bit"
  }
 },
 "nbformat": 4,
 "nbformat_minor": 2
}